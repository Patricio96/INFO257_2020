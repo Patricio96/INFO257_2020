{
 "cells": [
  {
   "cell_type": "markdown",
   "metadata": {},
   "source": [
    "# Trabajo Inteligencia Artificial Unidad 1"
   ]
  },
  {
   "cell_type": "code",
   "execution_count": 1,
   "metadata": {},
   "outputs": [
    {
     "data": {
      "text/html": [
       "<div>\n",
       "<style scoped>\n",
       "    .dataframe tbody tr th:only-of-type {\n",
       "        vertical-align: middle;\n",
       "    }\n",
       "\n",
       "    .dataframe tbody tr th {\n",
       "        vertical-align: top;\n",
       "    }\n",
       "\n",
       "    .dataframe thead th {\n",
       "        text-align: right;\n",
       "    }\n",
       "</style>\n",
       "<table border=\"1\" class=\"dataframe\">\n",
       "  <thead>\n",
       "    <tr style=\"text-align: right;\">\n",
       "      <th></th>\n",
       "      <th>objid</th>\n",
       "      <th>ra</th>\n",
       "      <th>dec</th>\n",
       "      <th>u</th>\n",
       "      <th>g</th>\n",
       "      <th>r</th>\n",
       "      <th>i</th>\n",
       "      <th>z</th>\n",
       "      <th>run</th>\n",
       "      <th>rerun</th>\n",
       "      <th>camcol</th>\n",
       "      <th>field</th>\n",
       "      <th>specobjid</th>\n",
       "      <th>class</th>\n",
       "      <th>redshift</th>\n",
       "      <th>plate</th>\n",
       "      <th>mjd</th>\n",
       "      <th>fiberid</th>\n",
       "    </tr>\n",
       "  </thead>\n",
       "  <tbody>\n",
       "    <tr>\n",
       "      <th>0</th>\n",
       "      <td>1.237650e+18</td>\n",
       "      <td>183.531326</td>\n",
       "      <td>0.089693</td>\n",
       "      <td>19.47406</td>\n",
       "      <td>17.04240</td>\n",
       "      <td>15.94699</td>\n",
       "      <td>15.50342</td>\n",
       "      <td>15.22531</td>\n",
       "      <td>752</td>\n",
       "      <td>301</td>\n",
       "      <td>4</td>\n",
       "      <td>267</td>\n",
       "      <td>3.722360e+18</td>\n",
       "      <td>STAR</td>\n",
       "      <td>-0.000009</td>\n",
       "      <td>3306</td>\n",
       "      <td>54922</td>\n",
       "      <td>491</td>\n",
       "    </tr>\n",
       "    <tr>\n",
       "      <th>1</th>\n",
       "      <td>1.237650e+18</td>\n",
       "      <td>183.598371</td>\n",
       "      <td>0.135285</td>\n",
       "      <td>18.66280</td>\n",
       "      <td>17.21449</td>\n",
       "      <td>16.67637</td>\n",
       "      <td>16.48922</td>\n",
       "      <td>16.39150</td>\n",
       "      <td>752</td>\n",
       "      <td>301</td>\n",
       "      <td>4</td>\n",
       "      <td>267</td>\n",
       "      <td>3.638140e+17</td>\n",
       "      <td>STAR</td>\n",
       "      <td>-0.000055</td>\n",
       "      <td>323</td>\n",
       "      <td>51615</td>\n",
       "      <td>541</td>\n",
       "    </tr>\n",
       "    <tr>\n",
       "      <th>2</th>\n",
       "      <td>1.237650e+18</td>\n",
       "      <td>183.680207</td>\n",
       "      <td>0.126185</td>\n",
       "      <td>19.38298</td>\n",
       "      <td>18.19169</td>\n",
       "      <td>17.47428</td>\n",
       "      <td>17.08732</td>\n",
       "      <td>16.80125</td>\n",
       "      <td>752</td>\n",
       "      <td>301</td>\n",
       "      <td>4</td>\n",
       "      <td>268</td>\n",
       "      <td>3.232740e+17</td>\n",
       "      <td>GALAXY</td>\n",
       "      <td>0.123111</td>\n",
       "      <td>287</td>\n",
       "      <td>52023</td>\n",
       "      <td>513</td>\n",
       "    </tr>\n",
       "    <tr>\n",
       "      <th>3</th>\n",
       "      <td>1.237650e+18</td>\n",
       "      <td>183.870529</td>\n",
       "      <td>0.049911</td>\n",
       "      <td>17.76536</td>\n",
       "      <td>16.60272</td>\n",
       "      <td>16.16116</td>\n",
       "      <td>15.98233</td>\n",
       "      <td>15.90438</td>\n",
       "      <td>752</td>\n",
       "      <td>301</td>\n",
       "      <td>4</td>\n",
       "      <td>269</td>\n",
       "      <td>3.722370e+18</td>\n",
       "      <td>STAR</td>\n",
       "      <td>-0.000111</td>\n",
       "      <td>3306</td>\n",
       "      <td>54922</td>\n",
       "      <td>510</td>\n",
       "    </tr>\n",
       "    <tr>\n",
       "      <th>4</th>\n",
       "      <td>1.237650e+18</td>\n",
       "      <td>183.883288</td>\n",
       "      <td>0.102557</td>\n",
       "      <td>17.55025</td>\n",
       "      <td>16.26342</td>\n",
       "      <td>16.43869</td>\n",
       "      <td>16.55492</td>\n",
       "      <td>16.61326</td>\n",
       "      <td>752</td>\n",
       "      <td>301</td>\n",
       "      <td>4</td>\n",
       "      <td>269</td>\n",
       "      <td>3.722370e+18</td>\n",
       "      <td>STAR</td>\n",
       "      <td>0.000590</td>\n",
       "      <td>3306</td>\n",
       "      <td>54922</td>\n",
       "      <td>512</td>\n",
       "    </tr>\n",
       "  </tbody>\n",
       "</table>\n",
       "</div>"
      ],
      "text/plain": [
       "          objid          ra       dec         u         g         r         i  \\\n",
       "0  1.237650e+18  183.531326  0.089693  19.47406  17.04240  15.94699  15.50342   \n",
       "1  1.237650e+18  183.598371  0.135285  18.66280  17.21449  16.67637  16.48922   \n",
       "2  1.237650e+18  183.680207  0.126185  19.38298  18.19169  17.47428  17.08732   \n",
       "3  1.237650e+18  183.870529  0.049911  17.76536  16.60272  16.16116  15.98233   \n",
       "4  1.237650e+18  183.883288  0.102557  17.55025  16.26342  16.43869  16.55492   \n",
       "\n",
       "          z  run  rerun  camcol  field     specobjid   class  redshift  plate  \\\n",
       "0  15.22531  752    301       4    267  3.722360e+18    STAR -0.000009   3306   \n",
       "1  16.39150  752    301       4    267  3.638140e+17    STAR -0.000055    323   \n",
       "2  16.80125  752    301       4    268  3.232740e+17  GALAXY  0.123111    287   \n",
       "3  15.90438  752    301       4    269  3.722370e+18    STAR -0.000111   3306   \n",
       "4  16.61326  752    301       4    269  3.722370e+18    STAR  0.000590   3306   \n",
       "\n",
       "     mjd  fiberid  \n",
       "0  54922      491  \n",
       "1  51615      541  \n",
       "2  52023      513  \n",
       "3  54922      510  \n",
       "4  54922      512  "
      ]
     },
     "execution_count": 1,
     "metadata": {},
     "output_type": "execute_result"
    }
   ],
   "source": [
    "#Nuestros datos son al formato CSV \n",
    "#En primer lugar cargamos la información\n",
    "\n",
    "import numpy as np\n",
    "from sklearn.preprocessing import StandardScaler\n",
    "import statsmodels.api as sm\n",
    "import pandas as pd\n",
    "import seaborn as sb\n",
    "from sklearn.model_selection import train_test_split\n",
    "from sklearn.linear_model import LogisticRegression\n",
    "from sklearn.metrics import classification_report\n",
    "from imblearn.over_sampling import RandomOverSampler\n",
    "\n",
    "datos = pd.read_csv(\"SDSS-DR14.csv\")\n",
    "datos[:5]\n",
    "\n"
   ]
  },
  {
   "cell_type": "markdown",
   "metadata": {},
   "source": [
    "# Descripción de las características"
   ]
  },
  {
   "cell_type": "markdown",
   "metadata": {},
   "source": [
    "\n",
    "\n",
    "**objid** : Número identificador del objeto en el espacio\n",
    "\n",
    "**ra** : Ascención recta en grados\n",
    "\n",
    "**dec** : Declinación en grados del objeto\n",
    "\n",
    "**u,g,r,i,z** : magnitudes de los objetos en el SDSS\n",
    "\n",
    "**run** : Número del escaneo\n",
    "\n",
    "**rerun** : tipo de escaneo (procesamiento)\n",
    "\n",
    "**camcol** : Es la salida de una columna de cámara de CCD como parte de un run.\n",
    "\n",
    "**field** : Parte del camcol que es procesada por el photo pipeline\n",
    "\n",
    "**specobjid** : Una identificación única de 64 bits codificada en bits utilizada para objetos espectroscópicos ópticos\n",
    "\n",
    "**class** : clase (GALAXY, QSO o STAR)\n",
    "\n",
    "**redshift** : Una medida de la velocidad de recesión de una galaxia u otro objeto del cielo.\n",
    "\n",
    "**plate** : Cada exposición espectroscópica emplea una placa metálica circular grande, delgada, que coloca las fibras ópticas a través de agujeros perforados en las ubicaciones de las imágenes en el plano focal del telescopio.\n",
    "\n",
    "**mjd** : Fecha juliana modificada, utilizada para indicar la fecha en que se tomó una determinada pieza de datos SDSS (imagen o espectro).\n",
    "\n",
    "**fiberid** : Cada objeto tiene asignado un ID de fibra correspondiente."
   ]
  },
  {
   "cell_type": "code",
   "execution_count": 2,
   "metadata": {},
   "outputs": [
    {
     "data": {
      "text/plain": [
       "objid        0\n",
       "ra           0\n",
       "dec          0\n",
       "u            0\n",
       "g            0\n",
       "r            0\n",
       "i            0\n",
       "z            0\n",
       "run          0\n",
       "rerun        0\n",
       "camcol       0\n",
       "field        0\n",
       "specobjid    0\n",
       "class        0\n",
       "redshift     0\n",
       "plate        0\n",
       "mjd          0\n",
       "fiberid      0\n",
       "dtype: int64"
      ]
     },
     "execution_count": 2,
     "metadata": {},
     "output_type": "execute_result"
    }
   ],
   "source": [
    "#verificamos si hay datos nulos\n",
    "datos.isnull().sum()"
   ]
  },
  {
   "cell_type": "markdown",
   "metadata": {},
   "source": [
    "Como no tenemos datos nulos, no hay que rellenar el dataset, por lo que podemos seguir sin ningún problema."
   ]
  },
  {
   "cell_type": "markdown",
   "metadata": {},
   "source": [
    "# Variable de tipo Dummy"
   ]
  },
  {
   "cell_type": "code",
   "execution_count": 3,
   "metadata": {},
   "outputs": [
    {
     "data": {
      "text/html": [
       "<div>\n",
       "<style scoped>\n",
       "    .dataframe tbody tr th:only-of-type {\n",
       "        vertical-align: middle;\n",
       "    }\n",
       "\n",
       "    .dataframe tbody tr th {\n",
       "        vertical-align: top;\n",
       "    }\n",
       "\n",
       "    .dataframe thead th {\n",
       "        text-align: right;\n",
       "    }\n",
       "</style>\n",
       "<table border=\"1\" class=\"dataframe\">\n",
       "  <thead>\n",
       "    <tr style=\"text-align: right;\">\n",
       "      <th></th>\n",
       "      <th>objid</th>\n",
       "      <th>ra</th>\n",
       "      <th>dec</th>\n",
       "      <th>u</th>\n",
       "      <th>g</th>\n",
       "      <th>r</th>\n",
       "      <th>i</th>\n",
       "      <th>z</th>\n",
       "      <th>run</th>\n",
       "      <th>rerun</th>\n",
       "      <th>camcol</th>\n",
       "      <th>field</th>\n",
       "      <th>specobjid</th>\n",
       "      <th>class</th>\n",
       "      <th>redshift</th>\n",
       "      <th>plate</th>\n",
       "      <th>mjd</th>\n",
       "      <th>fiberid</th>\n",
       "    </tr>\n",
       "  </thead>\n",
       "  <tbody>\n",
       "    <tr>\n",
       "      <th>0</th>\n",
       "      <td>1.237650e+18</td>\n",
       "      <td>183.531326</td>\n",
       "      <td>0.089693</td>\n",
       "      <td>19.47406</td>\n",
       "      <td>17.04240</td>\n",
       "      <td>15.94699</td>\n",
       "      <td>15.50342</td>\n",
       "      <td>15.22531</td>\n",
       "      <td>752</td>\n",
       "      <td>301</td>\n",
       "      <td>4</td>\n",
       "      <td>267</td>\n",
       "      <td>3.722360e+18</td>\n",
       "      <td>0</td>\n",
       "      <td>-0.000009</td>\n",
       "      <td>3306</td>\n",
       "      <td>54922</td>\n",
       "      <td>491</td>\n",
       "    </tr>\n",
       "    <tr>\n",
       "      <th>1</th>\n",
       "      <td>1.237650e+18</td>\n",
       "      <td>183.598371</td>\n",
       "      <td>0.135285</td>\n",
       "      <td>18.66280</td>\n",
       "      <td>17.21449</td>\n",
       "      <td>16.67637</td>\n",
       "      <td>16.48922</td>\n",
       "      <td>16.39150</td>\n",
       "      <td>752</td>\n",
       "      <td>301</td>\n",
       "      <td>4</td>\n",
       "      <td>267</td>\n",
       "      <td>3.638140e+17</td>\n",
       "      <td>0</td>\n",
       "      <td>-0.000055</td>\n",
       "      <td>323</td>\n",
       "      <td>51615</td>\n",
       "      <td>541</td>\n",
       "    </tr>\n",
       "    <tr>\n",
       "      <th>2</th>\n",
       "      <td>1.237650e+18</td>\n",
       "      <td>183.680207</td>\n",
       "      <td>0.126185</td>\n",
       "      <td>19.38298</td>\n",
       "      <td>18.19169</td>\n",
       "      <td>17.47428</td>\n",
       "      <td>17.08732</td>\n",
       "      <td>16.80125</td>\n",
       "      <td>752</td>\n",
       "      <td>301</td>\n",
       "      <td>4</td>\n",
       "      <td>268</td>\n",
       "      <td>3.232740e+17</td>\n",
       "      <td>1</td>\n",
       "      <td>0.123111</td>\n",
       "      <td>287</td>\n",
       "      <td>52023</td>\n",
       "      <td>513</td>\n",
       "    </tr>\n",
       "    <tr>\n",
       "      <th>3</th>\n",
       "      <td>1.237650e+18</td>\n",
       "      <td>183.870529</td>\n",
       "      <td>0.049911</td>\n",
       "      <td>17.76536</td>\n",
       "      <td>16.60272</td>\n",
       "      <td>16.16116</td>\n",
       "      <td>15.98233</td>\n",
       "      <td>15.90438</td>\n",
       "      <td>752</td>\n",
       "      <td>301</td>\n",
       "      <td>4</td>\n",
       "      <td>269</td>\n",
       "      <td>3.722370e+18</td>\n",
       "      <td>0</td>\n",
       "      <td>-0.000111</td>\n",
       "      <td>3306</td>\n",
       "      <td>54922</td>\n",
       "      <td>510</td>\n",
       "    </tr>\n",
       "    <tr>\n",
       "      <th>4</th>\n",
       "      <td>1.237650e+18</td>\n",
       "      <td>183.883288</td>\n",
       "      <td>0.102557</td>\n",
       "      <td>17.55025</td>\n",
       "      <td>16.26342</td>\n",
       "      <td>16.43869</td>\n",
       "      <td>16.55492</td>\n",
       "      <td>16.61326</td>\n",
       "      <td>752</td>\n",
       "      <td>301</td>\n",
       "      <td>4</td>\n",
       "      <td>269</td>\n",
       "      <td>3.722370e+18</td>\n",
       "      <td>0</td>\n",
       "      <td>0.000590</td>\n",
       "      <td>3306</td>\n",
       "      <td>54922</td>\n",
       "      <td>512</td>\n",
       "    </tr>\n",
       "  </tbody>\n",
       "</table>\n",
       "</div>"
      ],
      "text/plain": [
       "          objid          ra       dec         u         g         r         i  \\\n",
       "0  1.237650e+18  183.531326  0.089693  19.47406  17.04240  15.94699  15.50342   \n",
       "1  1.237650e+18  183.598371  0.135285  18.66280  17.21449  16.67637  16.48922   \n",
       "2  1.237650e+18  183.680207  0.126185  19.38298  18.19169  17.47428  17.08732   \n",
       "3  1.237650e+18  183.870529  0.049911  17.76536  16.60272  16.16116  15.98233   \n",
       "4  1.237650e+18  183.883288  0.102557  17.55025  16.26342  16.43869  16.55492   \n",
       "\n",
       "          z  run  rerun  camcol  field     specobjid  class  redshift  plate  \\\n",
       "0  15.22531  752    301       4    267  3.722360e+18      0 -0.000009   3306   \n",
       "1  16.39150  752    301       4    267  3.638140e+17      0 -0.000055    323   \n",
       "2  16.80125  752    301       4    268  3.232740e+17      1  0.123111    287   \n",
       "3  15.90438  752    301       4    269  3.722370e+18      0 -0.000111   3306   \n",
       "4  16.61326  752    301       4    269  3.722370e+18      0  0.000590   3306   \n",
       "\n",
       "     mjd  fiberid  \n",
       "0  54922      491  \n",
       "1  51615      541  \n",
       "2  52023      513  \n",
       "3  54922      510  \n",
       "4  54922      512  "
      ]
     },
     "execution_count": 3,
     "metadata": {},
     "output_type": "execute_result"
    }
   ],
   "source": [
    "\n",
    "datos[\"class\"].replace({'STAR':0, 'GALAXY':1, 'QSO':2}, inplace=True)\n",
    "datos.head()"
   ]
  },
  {
   "cell_type": "markdown",
   "metadata": {},
   "source": [
    "Es necesario pasar la variable objetivo class que es de tipo categorial, a variable numérica (variables dummy) para que los algoritmos de aprendizaje funcionen de mejor manera."
   ]
  },
  {
   "cell_type": "markdown",
   "metadata": {},
   "source": [
    "# Relación entre variables"
   ]
  },
  {
   "cell_type": "code",
   "execution_count": 4,
   "metadata": {},
   "outputs": [
    {
     "data": {
      "text/plain": [
       "<matplotlib.axes._subplots.AxesSubplot at 0x16ef613efc8>"
      ]
     },
     "execution_count": 4,
     "metadata": {},
     "output_type": "execute_result"
    },
    {
     "data": {
      "image/png": "[encoded data removed]",
      "text/plain": [
       "<Figure size 432x288 with 2 Axes>"
      ]
     },
     "metadata": {
      "needs_background": "light"
     },
     "output_type": "display_data"
    }
   ],
   "source": [
    "\n",
    "sb.heatmap(datos.corr())"
   ]
  },
  {
   "cell_type": "markdown",
   "metadata": {},
   "source": [
    "Éste gráfico nos ayuda a visualizar que datos están realacionados entre si y en que proporción."
   ]
  },
  {
   "cell_type": "code",
   "execution_count": 5,
   "metadata": {},
   "outputs": [
    {
     "data": {
      "text/html": [
       "<div>\n",
       "<style scoped>\n",
       "    .dataframe tbody tr th:only-of-type {\n",
       "        vertical-align: middle;\n",
       "    }\n",
       "\n",
       "    .dataframe tbody tr th {\n",
       "        vertical-align: top;\n",
       "    }\n",
       "\n",
       "    .dataframe thead th {\n",
       "        text-align: right;\n",
       "    }\n",
       "</style>\n",
       "<table border=\"1\" class=\"dataframe\">\n",
       "  <thead>\n",
       "    <tr style=\"text-align: right;\">\n",
       "      <th></th>\n",
       "      <th>ra</th>\n",
       "      <th>dec</th>\n",
       "      <th>u</th>\n",
       "      <th>g</th>\n",
       "      <th>r</th>\n",
       "      <th>i</th>\n",
       "      <th>z</th>\n",
       "      <th>run</th>\n",
       "      <th>camcol</th>\n",
       "      <th>field</th>\n",
       "      <th>class</th>\n",
       "      <th>redshift</th>\n",
       "      <th>plate</th>\n",
       "    </tr>\n",
       "  </thead>\n",
       "  <tbody>\n",
       "    <tr>\n",
       "      <th>0</th>\n",
       "      <td>183.531326</td>\n",
       "      <td>0.089693</td>\n",
       "      <td>19.47406</td>\n",
       "      <td>17.04240</td>\n",
       "      <td>15.94699</td>\n",
       "      <td>15.50342</td>\n",
       "      <td>15.22531</td>\n",
       "      <td>752</td>\n",
       "      <td>4</td>\n",
       "      <td>267</td>\n",
       "      <td>0</td>\n",
       "      <td>-0.000009</td>\n",
       "      <td>3306</td>\n",
       "    </tr>\n",
       "    <tr>\n",
       "      <th>1</th>\n",
       "      <td>183.598371</td>\n",
       "      <td>0.135285</td>\n",
       "      <td>18.66280</td>\n",
       "      <td>17.21449</td>\n",
       "      <td>16.67637</td>\n",
       "      <td>16.48922</td>\n",
       "      <td>16.39150</td>\n",
       "      <td>752</td>\n",
       "      <td>4</td>\n",
       "      <td>267</td>\n",
       "      <td>0</td>\n",
       "      <td>-0.000055</td>\n",
       "      <td>323</td>\n",
       "    </tr>\n",
       "    <tr>\n",
       "      <th>2</th>\n",
       "      <td>183.680207</td>\n",
       "      <td>0.126185</td>\n",
       "      <td>19.38298</td>\n",
       "      <td>18.19169</td>\n",
       "      <td>17.47428</td>\n",
       "      <td>17.08732</td>\n",
       "      <td>16.80125</td>\n",
       "      <td>752</td>\n",
       "      <td>4</td>\n",
       "      <td>268</td>\n",
       "      <td>1</td>\n",
       "      <td>0.123111</td>\n",
       "      <td>287</td>\n",
       "    </tr>\n",
       "    <tr>\n",
       "      <th>3</th>\n",
       "      <td>183.870529</td>\n",
       "      <td>0.049911</td>\n",
       "      <td>17.76536</td>\n",
       "      <td>16.60272</td>\n",
       "      <td>16.16116</td>\n",
       "      <td>15.98233</td>\n",
       "      <td>15.90438</td>\n",
       "      <td>752</td>\n",
       "      <td>4</td>\n",
       "      <td>269</td>\n",
       "      <td>0</td>\n",
       "      <td>-0.000111</td>\n",
       "      <td>3306</td>\n",
       "    </tr>\n",
       "    <tr>\n",
       "      <th>4</th>\n",
       "      <td>183.883288</td>\n",
       "      <td>0.102557</td>\n",
       "      <td>17.55025</td>\n",
       "      <td>16.26342</td>\n",
       "      <td>16.43869</td>\n",
       "      <td>16.55492</td>\n",
       "      <td>16.61326</td>\n",
       "      <td>752</td>\n",
       "      <td>4</td>\n",
       "      <td>269</td>\n",
       "      <td>0</td>\n",
       "      <td>0.000590</td>\n",
       "      <td>3306</td>\n",
       "    </tr>\n",
       "    <tr>\n",
       "      <th>5</th>\n",
       "      <td>183.847174</td>\n",
       "      <td>0.173694</td>\n",
       "      <td>19.43133</td>\n",
       "      <td>18.46779</td>\n",
       "      <td>18.16451</td>\n",
       "      <td>18.01475</td>\n",
       "      <td>18.04155</td>\n",
       "      <td>752</td>\n",
       "      <td>4</td>\n",
       "      <td>269</td>\n",
       "      <td>0</td>\n",
       "      <td>0.000315</td>\n",
       "      <td>324</td>\n",
       "    </tr>\n",
       "    <tr>\n",
       "      <th>6</th>\n",
       "      <td>183.864379</td>\n",
       "      <td>0.019201</td>\n",
       "      <td>19.38322</td>\n",
       "      <td>17.88995</td>\n",
       "      <td>17.10537</td>\n",
       "      <td>16.66393</td>\n",
       "      <td>16.36955</td>\n",
       "      <td>752</td>\n",
       "      <td>4</td>\n",
       "      <td>269</td>\n",
       "      <td>1</td>\n",
       "      <td>0.100242</td>\n",
       "      <td>287</td>\n",
       "    </tr>\n",
       "    <tr>\n",
       "      <th>7</th>\n",
       "      <td>183.900081</td>\n",
       "      <td>0.187473</td>\n",
       "      <td>18.97993</td>\n",
       "      <td>17.84496</td>\n",
       "      <td>17.38022</td>\n",
       "      <td>17.20673</td>\n",
       "      <td>17.07071</td>\n",
       "      <td>752</td>\n",
       "      <td>4</td>\n",
       "      <td>269</td>\n",
       "      <td>0</td>\n",
       "      <td>0.000315</td>\n",
       "      <td>3306</td>\n",
       "    </tr>\n",
       "    <tr>\n",
       "      <th>8</th>\n",
       "      <td>183.924588</td>\n",
       "      <td>0.097246</td>\n",
       "      <td>17.90616</td>\n",
       "      <td>16.97172</td>\n",
       "      <td>16.67541</td>\n",
       "      <td>16.53776</td>\n",
       "      <td>16.47596</td>\n",
       "      <td>752</td>\n",
       "      <td>4</td>\n",
       "      <td>270</td>\n",
       "      <td>0</td>\n",
       "      <td>0.000089</td>\n",
       "      <td>323</td>\n",
       "    </tr>\n",
       "    <tr>\n",
       "      <th>9</th>\n",
       "      <td>183.973498</td>\n",
       "      <td>0.081626</td>\n",
       "      <td>18.67249</td>\n",
       "      <td>17.71375</td>\n",
       "      <td>17.49362</td>\n",
       "      <td>17.28284</td>\n",
       "      <td>17.22644</td>\n",
       "      <td>752</td>\n",
       "      <td>4</td>\n",
       "      <td>270</td>\n",
       "      <td>1</td>\n",
       "      <td>0.040508</td>\n",
       "      <td>288</td>\n",
       "    </tr>\n",
       "  </tbody>\n",
       "</table>\n",
       "</div>"
      ],
      "text/plain": [
       "           ra       dec         u         g         r         i         z  \\\n",
       "0  183.531326  0.089693  19.47406  17.04240  15.94699  15.50342  15.22531   \n",
       "1  183.598371  0.135285  18.66280  17.21449  16.67637  16.48922  16.39150   \n",
       "2  183.680207  0.126185  19.38298  18.19169  17.47428  17.08732  16.80125   \n",
       "3  183.870529  0.049911  17.76536  16.60272  16.16116  15.98233  15.90438   \n",
       "4  183.883288  0.102557  17.55025  16.26342  16.43869  16.55492  16.61326   \n",
       "5  183.847174  0.173694  19.43133  18.46779  18.16451  18.01475  18.04155   \n",
       "6  183.864379  0.019201  19.38322  17.88995  17.10537  16.66393  16.36955   \n",
       "7  183.900081  0.187473  18.97993  17.84496  17.38022  17.20673  17.07071   \n",
       "8  183.924588  0.097246  17.90616  16.97172  16.67541  16.53776  16.47596   \n",
       "9  183.973498  0.081626  18.67249  17.71375  17.49362  17.28284  17.22644   \n",
       "\n",
       "   run  camcol  field  class  redshift  plate  \n",
       "0  752       4    267      0 -0.000009   3306  \n",
       "1  752       4    267      0 -0.000055    323  \n",
       "2  752       4    268      1  0.123111    287  \n",
       "3  752       4    269      0 -0.000111   3306  \n",
       "4  752       4    269      0  0.000590   3306  \n",
       "5  752       4    269      0  0.000315    324  \n",
       "6  752       4    269      1  0.100242    287  \n",
       "7  752       4    269      0  0.000315   3306  \n",
       "8  752       4    270      0  0.000089    323  \n",
       "9  752       4    270      1  0.040508    288  "
      ]
     },
     "execution_count": 5,
     "metadata": {},
     "output_type": "execute_result"
    }
   ],
   "source": [
    "datos.drop(['objid','fiberid','rerun','specobjid','mjd',],axis=1,inplace=True)\n",
    "datos[:10]\n",
    " "
   ]
  },
  {
   "cell_type": "markdown",
   "metadata": {},
   "source": [
    "Eliminamos las variables que según el gráfico no son independientes uno del otro y que a mi parecer no son relevantes para la predición, como los identificadores."
   ]
  },
  {
   "cell_type": "markdown",
   "metadata": {},
   "source": [
    "# REGRESIÓN LOGÍSTICA"
   ]
  },
  {
   "cell_type": "markdown",
   "metadata": {},
   "source": [
    "Ahora que hemos hecho la carga y limpieza del Dataset, podemos ir aplicando distintos algoritmos de predicción, vamos a partir con el de regresión logística."
   ]
  },
  {
   "cell_type": "code",
   "execution_count": 6,
   "metadata": {},
   "outputs": [
    {
     "data": {
      "text/plain": [
       "0       0\n",
       "1       0\n",
       "2       1\n",
       "3       0\n",
       "4       0\n",
       "       ..\n",
       "9995    1\n",
       "9996    1\n",
       "9997    0\n",
       "9998    1\n",
       "9999    1\n",
       "Name: class, Length: 10000, dtype: int64"
      ]
     },
     "execution_count": 6,
     "metadata": {},
     "output_type": "execute_result"
    }
   ],
   "source": [
    "\n",
    "X = datos.iloc[:,[0,1,2,3,4,5,6,7,8,9,11,12]]\n",
    "y = datos.iloc[:,10]\n",
    "y"
   ]
  },
  {
   "cell_type": "markdown",
   "metadata": {},
   "source": [
    "Separamos la variable objetivo class, de las demás."
   ]
  },
  {
   "cell_type": "code",
   "execution_count": 7,
   "metadata": {},
   "outputs": [
    {
     "name": "stdout",
     "output_type": "stream",
     "text": [
      "              ra        dec         u         g         r         i         z  \\\n",
      "3555  173.573276  -0.518473  19.49648  19.36368  19.29852  19.11845  19.08193   \n",
      "4078  167.449438  -0.204307  19.27516  17.93593  17.16087  16.72539  16.46638   \n",
      "8445   14.399753  14.601499  17.32164  15.94063  15.26906  14.85143  14.59428   \n",
      "5939  182.372733  -0.860851  19.56933  18.65260  18.45110  18.37256  18.30464   \n",
      "5583  142.134485  58.409548  19.04761  18.15117  17.83382  17.69068  17.64062   \n",
      "...          ...        ...       ...       ...       ...       ...       ...   \n",
      "3341  227.375806  -0.771168  16.99624  15.53884  14.83586  14.42628  14.12664   \n",
      "4876  179.919959  -0.534320  18.82454  18.26074  17.93938  17.70602  17.46235   \n",
      "8343  240.641309  52.250872  16.71322  15.25464  14.72938  14.56272  14.50999   \n",
      "7913  162.119589   0.660777  19.51074  17.67424  16.77590  16.36040  16.06209   \n",
      "2190   27.475474  13.126662  19.00817  17.13766  16.36818  15.99174  15.71176   \n",
      "\n",
      "       run  camcol  field  redshift  plate  \n",
      "3555   756       2    386  1.537378    282  \n",
      "4078   756       3    345  0.135670    278  \n",
      "8445  1035       3     58  0.077225    421  \n",
      "5939   756       1    444  0.000581   3306  \n",
      "5583  1345       5    223 -0.000010   8198  \n",
      "...    ...     ...    ...       ...    ...  \n",
      "3341   752       2    560  0.037770    311  \n",
      "4876   756       2    428  2.031001    286  \n",
      "8343  1345       6    565  0.000051   2176  \n",
      "7913   756       5    309  0.083564    275  \n",
      "2190  1035       2    144  0.017033    430  \n",
      "\n",
      "[3000 rows x 12 columns]\n"
     ]
    }
   ],
   "source": [
    "X_train, X_test, y_train, y_test = train_test_split(X, y, test_size = .3, random_state=25)\n",
    "\n",
    "print(X_test)"
   ]
  },
  {
   "cell_type": "markdown",
   "metadata": {},
   "source": [
    "Dividimos el dataset en elmentos de entrenamiento y elementos de testeo."
   ]
  },
  {
   "cell_type": "code",
   "execution_count": 8,
   "metadata": {},
   "outputs": [
    {
     "name": "stderr",
     "output_type": "stream",
     "text": [
      "C:\\Users\\patri\\miniconda3\\lib\\site-packages\\sklearn\\linear_model\\_logistic.py:940: ConvergenceWarning: lbfgs failed to converge (status=1):\n",
      "STOP: TOTAL NO. of ITERATIONS REACHED LIMIT.\n",
      "\n",
      "Increase the number of iterations (max_iter) or scale the data as shown in:\n",
      "    https://scikit-learn.org/stable/modules/preprocessing.html\n",
      "Please also refer to the documentation for alternative solver options:\n",
      "    https://scikit-learn.org/stable/modules/linear_model.html#logistic-regression\n",
      "  extra_warning_msg=_LOGISTIC_SOLVER_CONVERGENCE_MSG)\n"
     ]
    },
    {
     "data": {
      "text/plain": [
       "LogisticRegression(C=1.0, class_weight=None, dual=False, fit_intercept=True,\n",
       "                   intercept_scaling=1, l1_ratio=None, max_iter=100,\n",
       "                   multi_class='auto', n_jobs=None, penalty='l2',\n",
       "                   random_state=None, solver='lbfgs', tol=0.0001, verbose=0,\n",
       "                   warm_start=False)"
      ]
     },
     "execution_count": 8,
     "metadata": {},
     "output_type": "execute_result"
    }
   ],
   "source": [
    "#Aprendizaje\n",
    "LogReg = LogisticRegression()\n",
    "LogReg.fit(X_train, y_train)"
   ]
  },
  {
   "cell_type": "code",
   "execution_count": 9,
   "metadata": {},
   "outputs": [
    {
     "name": "stdout",
     "output_type": "stream",
     "text": [
      "coeficientes del modelo: [[-2.80100696e-03 -4.37392624e-02 -7.24331168e-02 -6.52957176e-02\n",
      "  -3.84866867e-02 -1.34672322e-02  4.60768616e-03  3.18864487e-03\n",
      "   5.54745318e-03  2.79294986e-03 -4.09642979e-02  7.11048384e-04]\n",
      " [ 4.81806695e-03 -2.95181674e-03  1.06534485e-01  2.12390025e-02\n",
      "  -3.40349673e-02 -6.91458277e-02 -9.38309453e-02  1.53994174e-03\n",
      "   1.54562052e-03  2.94788150e-04 -3.77941033e-02 -7.35514221e-04]\n",
      " [-2.01705999e-03  4.66910792e-02 -3.41013682e-02  4.40567151e-02\n",
      "   7.25216540e-02  8.26130599e-02  8.92232592e-02 -4.72858660e-03\n",
      "  -7.09307370e-03 -3.08773801e-03  7.87584012e-02  2.44658371e-05]]\n",
      "intercept: [-0.00082792  0.00398633 -0.0031584 ]\n"
     ]
    }
   ],
   "source": [
    "print(\"coeficientes del modelo: \"+str(LogReg.coef_))\n",
    "print(\"intercept: \"+str(LogReg.intercept_))"
   ]
  },
  {
   "cell_type": "code",
   "execution_count": 10,
   "metadata": {},
   "outputs": [
    {
     "data": {
      "text/plain": [
       "array([1, 1, 1, ..., 0, 1, 1], dtype=int64)"
      ]
     },
     "execution_count": 10,
     "metadata": {},
     "output_type": "execute_result"
    }
   ],
   "source": [
    "y_pred = LogReg.predict(X_test)\n",
    "y_pred"
   ]
  },
  {
   "cell_type": "code",
   "execution_count": 11,
   "metadata": {},
   "outputs": [
    {
     "data": {
      "text/plain": [
       "array([[ 946,  348,    6],\n",
       "       [  35, 1418,    0],\n",
       "       [  51,  192,    4]], dtype=int64)"
      ]
     },
     "execution_count": 11,
     "metadata": {},
     "output_type": "execute_result"
    }
   ],
   "source": [
    "from sklearn.metrics import confusion_matrix\n",
    "confusion_matrix = confusion_matrix(y_test, y_pred)\n",
    "confusion_matrix"
   ]
  },
  {
   "cell_type": "code",
   "execution_count": 12,
   "metadata": {},
   "outputs": [
    {
     "name": "stdout",
     "output_type": "stream",
     "text": [
      "              precision    recall  f1-score   support\n",
      "\n",
      "           0       0.92      0.73      0.81      1300\n",
      "           1       0.72      0.98      0.83      1453\n",
      "           2       0.40      0.02      0.03       247\n",
      "\n",
      "    accuracy                           0.79      3000\n",
      "   macro avg       0.68      0.57      0.56      3000\n",
      "weighted avg       0.78      0.79      0.76      3000\n",
      "\n"
     ]
    }
   ],
   "source": [
    "print(classification_report(y_test, y_pred))"
   ]
  },
  {
   "cell_type": "markdown",
   "metadata": {},
   "source": [
    "Como vemos en la Matriz de confusión, el algoritmo no funciona bien para predecir si el objeto en cuestión es un cuasar (variable dummy 2) ya que si vemos el promedio de la precision con el recall es muy bajo, esto puede deberse a que la carga del dataset está desbalanceada."
   ]
  },
  {
   "cell_type": "code",
   "execution_count": 13,
   "metadata": {},
   "outputs": [
    {
     "data": {
      "text/plain": [
       "<matplotlib.axes._subplots.AxesSubplot at 0x16ef62df408>"
      ]
     },
     "execution_count": 13,
     "metadata": {},
     "output_type": "execute_result"
    },
    {
     "data": {
      "image/png": "[encoded data removed]",
      "text/plain": [
       "<Figure size 432x288 with 1 Axes>"
      ]
     },
     "metadata": {
      "needs_background": "light"
     },
     "output_type": "display_data"
    }
   ],
   "source": [
    "sb.countplot(x='class',data=datos, palette='hls')"
   ]
  },
  {
   "cell_type": "markdown",
   "metadata": {},
   "source": [
    "Lo último que dije se ve en el siguiente gráfico que muestra el total de muestras que son estrella, galaxia y cuasar. Hay mucha diferencia en la tercera categoría, es decir, nuestro algoritmo va a predecir relativamnte bien las primeras dos categorias, pero con el cuásar va a tener dificultades ya que se ve condicionada por las otras dos, por lo que es necesario balancear el Dataset."
   ]
  },
  {
   "cell_type": "markdown",
   "metadata": {},
   "source": [
    "# Oversampling"
   ]
  },
  {
   "cell_type": "markdown",
   "metadata": {},
   "source": [
    "Una técnica que se usa para balancear el dataset es la de oversampling, que básicamente consiste en rellenar la muestra para asi balancear el gráfico."
   ]
  },
  {
   "cell_type": "code",
   "execution_count": 14,
   "metadata": {},
   "outputs": [
    {
     "name": "stdout",
     "output_type": "stream",
     "text": [
      "Distribución antes de hacer oversampling Counter({1: 3545, 0: 2852, 2: 603})\n",
      "Distribución después de hacer oversampling Counter({2: 3545, 1: 3545, 0: 3545})\n",
      "              precision    recall  f1-score   support\n",
      "\n",
      "           0       0.94      0.80      0.86      1300\n",
      "           1       0.87      0.95      0.91      1453\n",
      "           2       0.70      0.90      0.79       247\n",
      "\n",
      "    accuracy                           0.88      3000\n",
      "   macro avg       0.84      0.88      0.85      3000\n",
      "weighted avg       0.89      0.88      0.88      3000\n",
      "\n"
     ]
    },
    {
     "name": "stderr",
     "output_type": "stream",
     "text": [
      "C:\\Users\\patri\\miniconda3\\lib\\site-packages\\sklearn\\linear_model\\_logistic.py:940: ConvergenceWarning: lbfgs failed to converge (status=1):\n",
      "STOP: TOTAL NO. of ITERATIONS REACHED LIMIT.\n",
      "\n",
      "Increase the number of iterations (max_iter) or scale the data as shown in:\n",
      "    https://scikit-learn.org/stable/modules/preprocessing.html\n",
      "Please also refer to the documentation for alternative solver options:\n",
      "    https://scikit-learn.org/stable/modules/linear_model.html#logistic-regression\n",
      "  extra_warning_msg=_LOGISTIC_SOLVER_CONVERGENCE_MSG)\n"
     ]
    }
   ],
   "source": [
    "\n",
    "from imblearn.over_sampling import RandomOverSampler\n",
    "from collections import Counter\n",
    "\n",
    "\n",
    "oversample = RandomOverSampler()\n",
    "X_train_res, y_train_res = oversample.fit_sample(X_train, y_train)\n",
    "\n",
    "print (\"Distribución antes de hacer oversampling {}\".format(Counter(y_train)))\n",
    "print (\"Distribución después de hacer oversampling {}\".format(Counter(y_train_res)))\n",
    "\n",
    "clf_base = LogisticRegression(max_iter=500)\n",
    "clf_base.fit(X_train_res, y_train_res)\n",
    "\n",
    "pred_y = clf_base.predict(X_test)\n",
    "\n",
    "print(classification_report(y_test, pred_y))"
   ]
  },
  {
   "cell_type": "markdown",
   "metadata": {},
   "source": [
    "Como vemos ahora, al hacer un balanceo del dataset y aumentar el numero de iteraciones del algoritmo para cada muestra, el resultado de la precision y el recall aumenta considerablemente. Podemos verificar que el balanceo lo hicimos bien viendo la variable \"Counter\" que nos entrega el numero de muestras para cada clase."
   ]
  },
  {
   "cell_type": "markdown",
   "metadata": {},
   "source": [
    "# Regresión Lineal"
   ]
  },
  {
   "cell_type": "code",
   "execution_count": 21,
   "metadata": {},
   "outputs": [
    {
     "name": "stdout",
     "output_type": "stream",
     "text": [
      "                                 OLS Regression Results                                \n",
      "=======================================================================================\n",
      "Dep. Variable:                  class   R-squared (uncentered):                   0.912\n",
      "Model:                            OLS   Adj. R-squared (uncentered):              0.912\n",
      "Method:                 Least Squares   F-statistic:                              9184.\n",
      "Date:                Fri, 29 May 2020   Prob (F-statistic):                        0.00\n",
      "Time:                        02:18:41   Log-Likelihood:                         -4877.8\n",
      "No. Observations:               10635   AIC:                                      9780.\n",
      "Df Residuals:                   10623   BIC:                                      9867.\n",
      "Df Model:                          12                                                  \n",
      "Covariance Type:            nonrobust                                                  \n",
      "==============================================================================\n",
      "                 coef    std err          t      P>|t|      [0.025      0.975]\n",
      "------------------------------------------------------------------------------\n",
      "ra         -2.505e-05      0.000     -0.244      0.807      -0.000       0.000\n",
      "dec            0.0007      0.000      2.810      0.005       0.000       0.001\n",
      "u             -0.7894      0.012    -65.605      0.000      -0.813      -0.766\n",
      "g              1.3977      0.032     43.719      0.000       1.335       1.460\n",
      "r              0.2863      0.040      7.135      0.000       0.208       0.365\n",
      "i              0.0170      0.029      0.576      0.564      -0.041       0.075\n",
      "z             -0.8554      0.022    -38.522      0.000      -0.899      -0.812\n",
      "run            0.0001   2.74e-05      4.547      0.000    7.08e-05       0.000\n",
      "camcol         0.0033      0.002      1.459      0.145      -0.001       0.008\n",
      "field      -5.571e-05   3.63e-05     -1.534      0.125      -0.000    1.55e-05\n",
      "redshift       0.5695      0.008     73.437      0.000       0.554       0.585\n",
      "plate      -8.915e-05   2.11e-06    -42.233      0.000   -9.33e-05    -8.5e-05\n",
      "==============================================================================\n",
      "Omnibus:                      521.182   Durbin-Watson:                   1.799\n",
      "Prob(Omnibus):                  0.000   Jarque-Bera (JB):             1856.132\n",
      "Skew:                           0.095   Prob(JB):                         0.00\n",
      "Kurtosis:                       5.038   Cond. No.                     3.37e+04\n",
      "==============================================================================\n",
      "\n",
      "Warnings:\n",
      "[1] Standard Errors assume that the covariance matrix of the errors is correctly specified.\n",
      "[2] The condition number is large, 3.37e+04. This might indicate that there are\n",
      "strong multicollinearity or other numerical problems.\n"
     ]
    }
   ],
   "source": [
    "import statsmodels.api as sm\n",
    "\n",
    "est = sm.OLS(y_train_res, X_train_res).fit()\n",
    "print(est.summary())"
   ]
  },
  {
   "cell_type": "code",
   "execution_count": 22,
   "metadata": {},
   "outputs": [],
   "source": [
    "def predict_class(ra, dec,u,g,r,i,z,run,camcol,field,redshift,plate):\n",
    "    return -2.505e-05*ra + 0.0007*dec + -0.7894*u + 1.3977*g + 0.2863*r + 0.0170*i + -0.8554*z + 0.0001*run + 0.0033*camcol + -5.571e-05*field + 0.5695*redshift + -8.961e-05*plate\n"
   ]
  },
  {
   "cell_type": "markdown",
   "metadata": {},
   "source": [
    "A partir de los coeficientes que nos entrega el OLS podemos generar la función \"predict_class\" que es el algoritmo que predice la clase de un objeto espacial"
   ]
  },
  {
   "cell_type": "markdown",
   "metadata": {},
   "source": [
    "# Pruebas del algoritmo de Regresión Lineal"
   ]
  },
  {
   "cell_type": "markdown",
   "metadata": {},
   "source": [
    "Para evaluar el algoritmo, primero voy a ver las variables que describen a cada clase de objeto espacial (clase 0 es estrella, clase 1 galaxia y clase 2 es cuásar) y después voy a llamar la función que hice \"predict_class\" y le voy a pasar como argumento el valor de las variables de cada clase. Voy hacer 3 pruebas, 1 para cada clase, como resultado espero que el primero sea un número cercano a 0 el siguiente un número cercano a 1 y el último un número cercano a 2."
   ]
  },
  {
   "cell_type": "code",
   "execution_count": 23,
   "metadata": {},
   "outputs": [
    {
     "name": "stderr",
     "output_type": "stream",
     "text": [
      "C:\\Users\\patri\\miniconda3\\lib\\site-packages\\ipykernel_launcher.py:1: UserWarning: Boolean Series key will be reindexed to match DataFrame index.\n",
      "  \"\"\"Entry point for launching an IPython kernel.\n"
     ]
    },
    {
     "data": {
      "text/html": [
       "<div>\n",
       "<style scoped>\n",
       "    .dataframe tbody tr th:only-of-type {\n",
       "        vertical-align: middle;\n",
       "    }\n",
       "\n",
       "    .dataframe tbody tr th {\n",
       "        vertical-align: top;\n",
       "    }\n",
       "\n",
       "    .dataframe thead th {\n",
       "        text-align: right;\n",
       "    }\n",
       "</style>\n",
       "<table border=\"1\" class=\"dataframe\">\n",
       "  <thead>\n",
       "    <tr style=\"text-align: right;\">\n",
       "      <th></th>\n",
       "      <th>ra</th>\n",
       "      <th>dec</th>\n",
       "      <th>u</th>\n",
       "      <th>g</th>\n",
       "      <th>r</th>\n",
       "      <th>i</th>\n",
       "      <th>z</th>\n",
       "      <th>run</th>\n",
       "      <th>camcol</th>\n",
       "      <th>field</th>\n",
       "      <th>class</th>\n",
       "      <th>redshift</th>\n",
       "      <th>plate</th>\n",
       "    </tr>\n",
       "  </thead>\n",
       "  <tbody>\n",
       "    <tr>\n",
       "      <th>0</th>\n",
       "      <td>183.531326</td>\n",
       "      <td>0.089693</td>\n",
       "      <td>19.47406</td>\n",
       "      <td>17.0424</td>\n",
       "      <td>15.94699</td>\n",
       "      <td>15.50342</td>\n",
       "      <td>15.22531</td>\n",
       "      <td>752</td>\n",
       "      <td>4</td>\n",
       "      <td>267</td>\n",
       "      <td>0</td>\n",
       "      <td>-0.000009</td>\n",
       "      <td>3306</td>\n",
       "    </tr>\n",
       "  </tbody>\n",
       "</table>\n",
       "</div>"
      ],
      "text/plain": [
       "           ra       dec         u        g         r         i         z  run  \\\n",
       "0  183.531326  0.089693  19.47406  17.0424  15.94699  15.50342  15.22531  752   \n",
       "\n",
       "   camcol  field  class  redshift  plate  \n",
       "0       4    267      0 -0.000009   3306  "
      ]
     },
     "execution_count": 23,
     "metadata": {},
     "output_type": "execute_result"
    }
   ],
   "source": [
    "datos.head(1)[datos['class']==0]"
   ]
  },
  {
   "cell_type": "markdown",
   "metadata": {},
   "source": [
    "**VALORES QUE VOY A USAR PARA LA CLASE 0**"
   ]
  },
  {
   "cell_type": "code",
   "execution_count": 24,
   "metadata": {},
   "outputs": [
    {
     "name": "stderr",
     "output_type": "stream",
     "text": [
      "C:\\Users\\patri\\miniconda3\\lib\\site-packages\\ipykernel_launcher.py:1: UserWarning: Boolean Series key will be reindexed to match DataFrame index.\n",
      "  \"\"\"Entry point for launching an IPython kernel.\n"
     ]
    },
    {
     "data": {
      "text/html": [
       "<div>\n",
       "<style scoped>\n",
       "    .dataframe tbody tr th:only-of-type {\n",
       "        vertical-align: middle;\n",
       "    }\n",
       "\n",
       "    .dataframe tbody tr th {\n",
       "        vertical-align: top;\n",
       "    }\n",
       "\n",
       "    .dataframe thead th {\n",
       "        text-align: right;\n",
       "    }\n",
       "</style>\n",
       "<table border=\"1\" class=\"dataframe\">\n",
       "  <thead>\n",
       "    <tr style=\"text-align: right;\">\n",
       "      <th></th>\n",
       "      <th>ra</th>\n",
       "      <th>dec</th>\n",
       "      <th>u</th>\n",
       "      <th>g</th>\n",
       "      <th>r</th>\n",
       "      <th>i</th>\n",
       "      <th>z</th>\n",
       "      <th>run</th>\n",
       "      <th>camcol</th>\n",
       "      <th>field</th>\n",
       "      <th>class</th>\n",
       "      <th>redshift</th>\n",
       "      <th>plate</th>\n",
       "    </tr>\n",
       "  </thead>\n",
       "  <tbody>\n",
       "    <tr>\n",
       "      <th>2</th>\n",
       "      <td>183.680207</td>\n",
       "      <td>0.126185</td>\n",
       "      <td>19.38298</td>\n",
       "      <td>18.19169</td>\n",
       "      <td>17.47428</td>\n",
       "      <td>17.08732</td>\n",
       "      <td>16.80125</td>\n",
       "      <td>752</td>\n",
       "      <td>4</td>\n",
       "      <td>268</td>\n",
       "      <td>1</td>\n",
       "      <td>0.123111</td>\n",
       "      <td>287</td>\n",
       "    </tr>\n",
       "  </tbody>\n",
       "</table>\n",
       "</div>"
      ],
      "text/plain": [
       "           ra       dec         u         g         r         i         z  \\\n",
       "2  183.680207  0.126185  19.38298  18.19169  17.47428  17.08732  16.80125   \n",
       "\n",
       "   run  camcol  field  class  redshift  plate  \n",
       "2  752       4    268      1  0.123111    287  "
      ]
     },
     "execution_count": 24,
     "metadata": {},
     "output_type": "execute_result"
    }
   ],
   "source": [
    "datos.head()[datos['class']==1]"
   ]
  },
  {
   "cell_type": "markdown",
   "metadata": {},
   "source": [
    "**VALORES QUE VOY A USAR PARA LA CLASE 1**"
   ]
  },
  {
   "cell_type": "code",
   "execution_count": 25,
   "metadata": {},
   "outputs": [
    {
     "data": {
      "text/html": [
       "<div>\n",
       "<style scoped>\n",
       "    .dataframe tbody tr th:only-of-type {\n",
       "        vertical-align: middle;\n",
       "    }\n",
       "\n",
       "    .dataframe tbody tr th {\n",
       "        vertical-align: top;\n",
       "    }\n",
       "\n",
       "    .dataframe thead th {\n",
       "        text-align: right;\n",
       "    }\n",
       "</style>\n",
       "<table border=\"1\" class=\"dataframe\">\n",
       "  <thead>\n",
       "    <tr style=\"text-align: right;\">\n",
       "      <th></th>\n",
       "      <th>ra</th>\n",
       "      <th>dec</th>\n",
       "      <th>u</th>\n",
       "      <th>g</th>\n",
       "      <th>r</th>\n",
       "      <th>i</th>\n",
       "      <th>z</th>\n",
       "      <th>run</th>\n",
       "      <th>camcol</th>\n",
       "      <th>field</th>\n",
       "      <th>class</th>\n",
       "      <th>redshift</th>\n",
       "      <th>plate</th>\n",
       "    </tr>\n",
       "  </thead>\n",
       "  <tbody>\n",
       "    <tr>\n",
       "      <th>15</th>\n",
       "      <td>184.350647</td>\n",
       "      <td>0.207230</td>\n",
       "      <td>18.73832</td>\n",
       "      <td>18.60962</td>\n",
       "      <td>18.39696</td>\n",
       "      <td>18.31174</td>\n",
       "      <td>17.97663</td>\n",
       "      <td>752</td>\n",
       "      <td>4</td>\n",
       "      <td>272</td>\n",
       "      <td>2</td>\n",
       "      <td>0.271937</td>\n",
       "      <td>287</td>\n",
       "    </tr>\n",
       "    <tr>\n",
       "      <th>17</th>\n",
       "      <td>184.245664</td>\n",
       "      <td>0.198257</td>\n",
       "      <td>19.22143</td>\n",
       "      <td>19.30248</td>\n",
       "      <td>19.13823</td>\n",
       "      <td>19.11351</td>\n",
       "      <td>19.23454</td>\n",
       "      <td>752</td>\n",
       "      <td>4</td>\n",
       "      <td>272</td>\n",
       "      <td>2</td>\n",
       "      <td>1.178098</td>\n",
       "      <td>287</td>\n",
       "    </tr>\n",
       "    <tr>\n",
       "      <th>22</th>\n",
       "      <td>184.654170</td>\n",
       "      <td>0.122673</td>\n",
       "      <td>19.07731</td>\n",
       "      <td>18.64518</td>\n",
       "      <td>18.49678</td>\n",
       "      <td>18.52677</td>\n",
       "      <td>18.45765</td>\n",
       "      <td>752</td>\n",
       "      <td>4</td>\n",
       "      <td>274</td>\n",
       "      <td>2</td>\n",
       "      <td>0.925173</td>\n",
       "      <td>288</td>\n",
       "    </tr>\n",
       "    <tr>\n",
       "      <th>45</th>\n",
       "      <td>185.164376</td>\n",
       "      <td>0.074358</td>\n",
       "      <td>17.55001</td>\n",
       "      <td>17.42367</td>\n",
       "      <td>17.35734</td>\n",
       "      <td>17.19343</td>\n",
       "      <td>16.97589</td>\n",
       "      <td>752</td>\n",
       "      <td>4</td>\n",
       "      <td>278</td>\n",
       "      <td>2</td>\n",
       "      <td>2.044347</td>\n",
       "      <td>288</td>\n",
       "    </tr>\n",
       "    <tr>\n",
       "      <th>62</th>\n",
       "      <td>160.384806</td>\n",
       "      <td>-0.586705</td>\n",
       "      <td>19.52565</td>\n",
       "      <td>19.29625</td>\n",
       "      <td>18.95885</td>\n",
       "      <td>18.52108</td>\n",
       "      <td>18.57694</td>\n",
       "      <td>756</td>\n",
       "      <td>2</td>\n",
       "      <td>298</td>\n",
       "      <td>2</td>\n",
       "      <td>0.134643</td>\n",
       "      <td>275</td>\n",
       "    </tr>\n",
       "    <tr>\n",
       "      <th>...</th>\n",
       "      <td>...</td>\n",
       "      <td>...</td>\n",
       "      <td>...</td>\n",
       "      <td>...</td>\n",
       "      <td>...</td>\n",
       "      <td>...</td>\n",
       "      <td>...</td>\n",
       "      <td>...</td>\n",
       "      <td>...</td>\n",
       "      <td>...</td>\n",
       "      <td>...</td>\n",
       "      <td>...</td>\n",
       "      <td>...</td>\n",
       "    </tr>\n",
       "    <tr>\n",
       "      <th>9910</th>\n",
       "      <td>212.619523</td>\n",
       "      <td>65.957183</td>\n",
       "      <td>18.86834</td>\n",
       "      <td>18.71241</td>\n",
       "      <td>18.69465</td>\n",
       "      <td>18.44581</td>\n",
       "      <td>18.17429</td>\n",
       "      <td>1350</td>\n",
       "      <td>6</td>\n",
       "      <td>442</td>\n",
       "      <td>2</td>\n",
       "      <td>2.076507</td>\n",
       "      <td>6986</td>\n",
       "    </tr>\n",
       "    <tr>\n",
       "      <th>9940</th>\n",
       "      <td>190.138649</td>\n",
       "      <td>-0.245414</td>\n",
       "      <td>19.19568</td>\n",
       "      <td>18.79197</td>\n",
       "      <td>18.54523</td>\n",
       "      <td>18.38367</td>\n",
       "      <td>18.41361</td>\n",
       "      <td>752</td>\n",
       "      <td>3</td>\n",
       "      <td>311</td>\n",
       "      <td>2</td>\n",
       "      <td>1.439024</td>\n",
       "      <td>290</td>\n",
       "    </tr>\n",
       "    <tr>\n",
       "      <th>9956</th>\n",
       "      <td>192.199231</td>\n",
       "      <td>-0.312712</td>\n",
       "      <td>18.83507</td>\n",
       "      <td>18.97771</td>\n",
       "      <td>19.30594</td>\n",
       "      <td>19.60962</td>\n",
       "      <td>19.89950</td>\n",
       "      <td>752</td>\n",
       "      <td>3</td>\n",
       "      <td>325</td>\n",
       "      <td>2</td>\n",
       "      <td>2.548733</td>\n",
       "      <td>3849</td>\n",
       "    </tr>\n",
       "    <tr>\n",
       "      <th>9968</th>\n",
       "      <td>192.951244</td>\n",
       "      <td>-0.351823</td>\n",
       "      <td>19.20954</td>\n",
       "      <td>18.93043</td>\n",
       "      <td>18.94948</td>\n",
       "      <td>18.90152</td>\n",
       "      <td>18.52991</td>\n",
       "      <td>752</td>\n",
       "      <td>3</td>\n",
       "      <td>330</td>\n",
       "      <td>2</td>\n",
       "      <td>0.407276</td>\n",
       "      <td>292</td>\n",
       "    </tr>\n",
       "    <tr>\n",
       "      <th>9979</th>\n",
       "      <td>130.818299</td>\n",
       "      <td>51.204332</td>\n",
       "      <td>19.52465</td>\n",
       "      <td>19.14411</td>\n",
       "      <td>18.98649</td>\n",
       "      <td>18.98454</td>\n",
       "      <td>18.78073</td>\n",
       "      <td>1345</td>\n",
       "      <td>3</td>\n",
       "      <td>158</td>\n",
       "      <td>2</td>\n",
       "      <td>0.903496</td>\n",
       "      <td>447</td>\n",
       "    </tr>\n",
       "  </tbody>\n",
       "</table>\n",
       "<p>850 rows × 13 columns</p>\n",
       "</div>"
      ],
      "text/plain": [
       "              ra        dec         u         g         r         i         z  \\\n",
       "15    184.350647   0.207230  18.73832  18.60962  18.39696  18.31174  17.97663   \n",
       "17    184.245664   0.198257  19.22143  19.30248  19.13823  19.11351  19.23454   \n",
       "22    184.654170   0.122673  19.07731  18.64518  18.49678  18.52677  18.45765   \n",
       "45    185.164376   0.074358  17.55001  17.42367  17.35734  17.19343  16.97589   \n",
       "62    160.384806  -0.586705  19.52565  19.29625  18.95885  18.52108  18.57694   \n",
       "...          ...        ...       ...       ...       ...       ...       ...   \n",
       "9910  212.619523  65.957183  18.86834  18.71241  18.69465  18.44581  18.17429   \n",
       "9940  190.138649  -0.245414  19.19568  18.79197  18.54523  18.38367  18.41361   \n",
       "9956  192.199231  -0.312712  18.83507  18.97771  19.30594  19.60962  19.89950   \n",
       "9968  192.951244  -0.351823  19.20954  18.93043  18.94948  18.90152  18.52991   \n",
       "9979  130.818299  51.204332  19.52465  19.14411  18.98649  18.98454  18.78073   \n",
       "\n",
       "       run  camcol  field  class  redshift  plate  \n",
       "15     752       4    272      2  0.271937    287  \n",
       "17     752       4    272      2  1.178098    287  \n",
       "22     752       4    274      2  0.925173    288  \n",
       "45     752       4    278      2  2.044347    288  \n",
       "62     756       2    298      2  0.134643    275  \n",
       "...    ...     ...    ...    ...       ...    ...  \n",
       "9910  1350       6    442      2  2.076507   6986  \n",
       "9940   752       3    311      2  1.439024    290  \n",
       "9956   752       3    325      2  2.548733   3849  \n",
       "9968   752       3    330      2  0.407276    292  \n",
       "9979  1345       3    158      2  0.903496    447  \n",
       "\n",
       "[850 rows x 13 columns]"
      ]
     },
     "execution_count": 25,
     "metadata": {},
     "output_type": "execute_result"
    }
   ],
   "source": [
    "datos[datos['class']==2]"
   ]
  },
  {
   "cell_type": "markdown",
   "metadata": {},
   "source": [
    "**VALORES QUE VOY A USAR PARA LA VARIABLE 2**"
   ]
  },
  {
   "cell_type": "code",
   "execution_count": 26,
   "metadata": {},
   "outputs": [
    {
     "name": "stdout",
     "output_type": "stream",
     "text": [
      "0.025525688883698106\n",
      "1.1605327598146489\n",
      "1.617700000792648\n"
     ]
    }
   ],
   "source": [
    "\n",
    "\n",
    "predic0=predict_class(183.531326,0.089693,19.47406,17.0424,15.94699,15.50342,15.22531,752,4,267,-0.000009,3306)\n",
    "predic1=predict_class(183.680207,0.126185,19.38298,18.19169,17.47428,17.08732,16.80125,752,4,268,0.123111,287)\n",
    "predic2=predict_class(184.350647,0.207230,18.73832,18.60962,18.39696,18.31174,17.97663,752,4,272,0.271937,287)\n",
    "print(predic0)\n",
    "print(predic1)\n",
    "print(predic2)"
   ]
  },
  {
   "cell_type": "markdown",
   "metadata": {},
   "source": [
    "Como vemos, los valores son los esperados, podemos aproximar o truncar cada valor para obtener la predicción adecuada, el algoritmo de regresión lineal funciona bien, al menos para las 3 pruebas que hice pero la tendencia deberia ser buena."
   ]
  },
  {
   "cell_type": "code",
   "execution_count": null,
   "metadata": {},
   "outputs": [],
   "source": []
  }
 ],
 "metadata": {
  "kernelspec": {
   "display_name": "Python 3",
   "language": "python",
   "name": "python3"
  },
  "language_info": {
   "codemirror_mode": {
    "name": "ipython",
    "version": 3
   },
   "file_extension": ".py",
   "mimetype": "text/x-python",
   "name": "python",
   "nbconvert_exporter": "python",
   "pygments_lexer": "ipython3",
   "version": "3.7.6"
  }
 },
 "nbformat": 4,
 "nbformat_minor": 4
}
